{
 "cells": [
  {
   "cell_type": "markdown",
   "metadata": {},
   "source": [
    "# **IMPORT LIBRARIES**"
   ]
  },
  {
   "cell_type": "code",
   "execution_count": 1,
   "metadata": {},
   "outputs": [],
   "source": [
    "import numpy as np\n",
    "import pandas as pd\n",
    "\n",
    "from sklearn.model_selection import train_test_split, StratifiedKFold, RepeatedStratifiedKFold, RandomizedSearchCV\n",
    "from sklearn.metrics import f1_score, classification_report, confusion_matrix, ConfusionMatrixDisplay\n",
    "from sklearn.inspection import permutation_importance\n",
    "\n",
    "from sklearn.svm import LinearSVC, SVC\n",
    "\n",
    "from scipy.stats import uniform, loguniform\n",
    "\n",
    "import warnings\n",
    "warnings.filterwarnings(\"ignore\")"
   ]
  },
  {
   "cell_type": "markdown",
   "metadata": {},
   "source": [
    "# **IMPORT DATA, TEST/TRAIN SPLIT, SCALE**"
   ]
  },
  {
   "cell_type": "code",
   "execution_count": 2,
   "metadata": {},
   "outputs": [],
   "source": [
    "features = pd.read_csv(\"../data/paris_lille/geometric_features.csv\")\n",
    "\n",
    "X = features.drop(['class'], axis=1)\n",
    "y = features[['class']].values.flatten()\n",
    "\n",
    "X_train, X_test, y_train, y_test = train_test_split(X, y)"
   ]
  },
  {
   "cell_type": "markdown",
   "metadata": {},
   "source": [
    "# **BASELINE SVC**"
   ]
  },
  {
   "cell_type": "code",
   "execution_count": 3,
   "metadata": {},
   "outputs": [
    {
     "name": "stdout",
     "output_type": "stream",
     "text": [
      "                  precision    recall  f1-score   support\n",
      "\n",
      "         Barrier      0.000     0.000     0.000         6\n",
      "    Bicycle Rack      1.000     0.333     0.500         3\n",
      "Bicycle Terminal      0.000     0.000     0.000        14\n",
      "         Bollard      0.538     0.955     0.689        66\n",
      "        Building      0.000     0.000     0.000        11\n",
      "           Chair      0.000     0.000     0.000         2\n",
      "Distribution Box      0.111     0.333     0.167         3\n",
      "      Floor Lamp      0.880     0.880     0.880        25\n",
      "          Island      0.000     0.000     0.000         8\n",
      "Lighting Console      0.821     0.523     0.639        44\n",
      "        Low Wall      0.000     0.000     0.000        17\n",
      "         Mailbox      0.000     0.000     0.000         1\n",
      "           Meter      0.000     0.000     0.000         0\n",
      "      Mobile Car      0.000     0.000     0.000        11\n",
      "  Mobile Scooter      0.000     0.000     0.000         1\n",
      "      Mobile Van      0.000     0.000     0.000         1\n",
      "         Natural      0.343     0.593     0.435        59\n",
      "  Parked Bicycle      0.400     0.250     0.308         8\n",
      "      Parked Car      0.716     0.961     0.820        76\n",
      "Parked Motorbike      0.000     0.000     0.000         2\n",
      "  Parked Scooter      0.800     0.500     0.615         8\n",
      "    Parked Truck      0.000     0.000     0.000         1\n",
      "      Parked Van      0.000     0.000     0.000         7\n",
      "      Pedestrian      0.100     0.038     0.056        26\n",
      "            Post      0.000     0.000     0.000         2\n",
      "    Potted Plant      0.000     0.000     0.000        11\n",
      "            Road      0.000     0.000     0.000         1\n",
      "        Roasting      0.000     0.000     0.000         1\n",
      "        Sidewalk      0.000     0.000     0.000        12\n",
      "       Signboard      0.000     0.000     0.000         8\n",
      "          Statue      0.000     0.000     0.000         1\n",
      "     Stopped Bus      0.000     0.000     0.000         1\n",
      "     Stopped Car      0.000     0.000     0.000         1\n",
      "           Table      0.000     0.000     0.000         1\n",
      "   Traffic Light      0.000     0.000     0.000         9\n",
      "    Traffic Sign      0.000     0.000     0.000        31\n",
      "       Trash Can      0.707     0.892     0.789        65\n",
      "            Tree      0.882     0.698     0.779        43\n",
      "      Vegetation      0.122     0.562     0.200        16\n",
      "           Waste      0.000     0.000     0.000         2\n",
      "            Wire      0.800     0.800     0.800         5\n",
      "\n",
      "        accuracy                          0.534       610\n",
      "       macro avg      0.201     0.203     0.187       610\n",
      "    weighted avg      0.449     0.534     0.469       610\n",
      "\n",
      "0.5344262295081967\n"
     ]
    }
   ],
   "source": [
    "svc_model = LinearSVC()\n",
    "svc_model.fit(X_train, y_train)\n",
    "y_pred = svc_model.predict(X_test)\n",
    "\n",
    "print(classification_report(y_test, y_pred, digits=3))\n",
    "print(f1_score(y_test, y_pred, average='micro'))"
   ]
  },
  {
   "cell_type": "markdown",
   "metadata": {},
   "source": [
    "# **HYPERPARAMETER TUNING**"
   ]
  },
  {
   "cell_type": "code",
   "execution_count": 3,
   "metadata": {},
   "outputs": [],
   "source": [
    "model = SVC()\n",
    "\n",
    "#params_grid = [\n",
    "#  {'C': [1], 'class_weight': ['balanced'], 'decision_function_shape' : ['ovo', 'ovr'], 'kernel': ['linear']},\n",
    "#  {'C': [1], 'class_weight': ['balanced'], 'decision_function_shape' : ['ovo', 'ovr'], 'gamma': uniform(10, 100), 'kernel': ['rbf']},\n",
    "#  {'C': [1], 'class_weight': ['balanced'], 'decision_function_shape' : ['ovo', 'ovr'], 'gamma': uniform(10, 100), 'kernel': ['poly'], 'degree': [2, 3, 4, 5]}, \n",
    "#  {'C': [1], 'class_weight': ['balanced'], 'decision_function_shape' : ['ovo', 'ovr'], 'gamma': uniform(10, 100), 'kernel': ['sigmoid']}\n",
    "#]\n",
    "\n",
    "params_grid = [\n",
    "  {'C': [1], 'class_weight': ['balanced'],'kernel': ['linear']},\n",
    "  {'C': [1], 'class_weight': ['balanced'],'gamma': uniform(50, 100), 'kernel': ['rbf']},\n",
    "  {'C': [1], 'class_weight': ['balanced'],'gamma': uniform(50, 100), 'kernel': ['poly'], 'degree': [3, 4, 5]}, \n",
    "  {'C': [1], 'class_weight': ['balanced'],'gamma': uniform(50, 100), 'kernel': ['sigmoid']}\n",
    "]"
   ]
  },
  {
   "cell_type": "code",
   "execution_count": null,
   "metadata": {},
   "outputs": [],
   "source": [
    "#cv = RepeatedStratifiedKFold(n_split=5, n_repeats=2, random_state=0)\n",
    "cv = StratifiedKFold(n_splits=5, shuffle=True, random_state=0)\n",
    "random_search = RandomizedSearchCV(estimator=model, n_jobs=-1, cv=cv, param_distributions=params_grid, scoring='f1_micro')\n",
    "search_results = random_search.fit(X_train, y_train)"
   ]
  },
  {
   "cell_type": "code",
   "execution_count": null,
   "metadata": {},
   "outputs": [],
   "source": [
    "search_results.best_estimator_"
   ]
  },
  {
   "cell_type": "code",
   "execution_count": null,
   "metadata": {},
   "outputs": [],
   "source": [
    "best_model = search_results.best_estimator_\n",
    "best_model.fit(X_train, y_train)\n",
    "y_pred = best_model.predict(X_test)\n",
    "\n",
    "print(classification_report(y_test, y_pred, digits=3))\n",
    "print(f1_score(y_test, y_pred, average='micro'))"
   ]
  },
  {
   "cell_type": "code",
   "execution_count": null,
   "metadata": {},
   "outputs": [],
   "source": [
    "model = SVC(C=1, class_weight='balanced', degree=4, gamma=91.13708634647797, kernel='poly')\n",
    "model.fit(X_train, y_train)\n",
    "y_pred = model.predict(X_test)\n",
    "\n",
    "print(classification_report(y_test, y_pred, digits=3))\n",
    "print(f1_score(y_test, y_pred, average='micro'))"
   ]
  },
  {
   "cell_type": "markdown",
   "metadata": {},
   "source": [
    "# **CONFUSION MATRIX**"
   ]
  },
  {
   "cell_type": "code",
   "execution_count": null,
   "metadata": {},
   "outputs": [],
   "source": [
    "cm = confusion_matrix(y_test, y_pred, labels=best_model.classes_)\n",
    "cmd = ConfusionMatrixDisplay(cm, display_labels=best_model.classes_)\n",
    "fig = plt.figure(figsize=(20,20))\n",
    "ax = fig.add_subplot(111)\n",
    "cmd.plot(ax=ax, xticks_rotation='vertical');\n",
    "\n",
    "plt.savefig('confusionmatrix_svm.png', dpi=600)"
   ]
  },
  {
   "cell_type": "markdown",
   "metadata": {},
   "source": [
    "# **FEATURE IMPORTANCE**"
   ]
  },
  {
   "cell_type": "code",
   "execution_count": null,
   "metadata": {},
   "outputs": [],
   "source": [
    "results = permutation_importance(best_model, X_test, y_test, scoring='f1_micro')\n",
    "importance = results.importances_mean\n",
    "for i,v in enumerate(importance):\n",
    "    print('Feature: %0d, Score %.5f' % (i,v))"
   ]
  },
  {
   "cell_type": "code",
   "execution_count": null,
   "metadata": {},
   "outputs": [],
   "source": [
    "plt.figure(figsize=(25,15))\n",
    "plt.bar(range(len(results.importances_mean)), results.importances_mean)\n",
    "plt.xticks(range(len(results.importances_mean)), X.columns)\n",
    "plt.savefig('featureimportance_svm.png', dpi=600)\n",
    "plt.show()"
   ]
  }
 ],
 "metadata": {
  "kernelspec": {
   "display_name": "lidar",
   "language": "python",
   "name": "lidar"
  },
  "language_info": {
   "codemirror_mode": {
    "name": "ipython",
    "version": 3
   },
   "file_extension": ".py",
   "mimetype": "text/x-python",
   "name": "python",
   "nbconvert_exporter": "python",
   "pygments_lexer": "ipython3",
   "version": "3.8.8"
  }
 },
 "nbformat": 4,
 "nbformat_minor": 4
}
