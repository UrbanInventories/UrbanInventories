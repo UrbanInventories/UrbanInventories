{
 "cells": [
  {
   "cell_type": "markdown",
   "metadata": {},
   "source": [
    "# **IMPORT LIBRARIES**"
   ]
  },
  {
   "cell_type": "code",
   "execution_count": 1,
   "metadata": {},
   "outputs": [],
   "source": [
    "import multiprocessing as mp\n",
    "import time\n",
    "\n",
    "import numpy as np\n",
    "from numpy import linalg\n",
    "import pandas as pd\n",
    "\n",
    "from plyfile import PlyData, PlyElement\n",
    "from sklearn import preprocessing"
   ]
  },
  {
   "cell_type": "markdown",
   "metadata": {},
   "source": [
    "# **READ IN FILES**"
   ]
  },
  {
   "cell_type": "code",
   "execution_count": 2,
   "metadata": {},
   "outputs": [],
   "source": [
    "ply0 = PlyData.read('../../data/paris_lille/paris_lille/Paris.ply')\n",
    "ply1 = PlyData.read('../../data/paris_lille/paris_lille/Lille1.ply')\n",
    "ply2 = PlyData.read('../../data/paris_lille/paris_lille/Lille2.ply')"
   ]
  },
  {
   "cell_type": "markdown",
   "metadata": {},
   "source": [
    "# **CONVERT TO NUMPY AND PANDAS**"
   ]
  },
  {
   "cell_type": "code",
   "execution_count": 3,
   "metadata": {},
   "outputs": [],
   "source": [
    "def plyToData(ply_file):\n",
    "    \n",
    "    data = ply_file.elements[0].data\n",
    "\n",
    "    data_pd = pd.DataFrame(data)\n",
    "    data_np = np.zeros(data_pd.shape, dtype=np.float)\n",
    "    property_names = data[0].dtype.names\n",
    "    for i, name in enumerate(property_names):\n",
    "        data_np[:,i] = data_pd[name]\n",
    "\n",
    "    return data_np, data_pd\n",
    "\n",
    "\n",
    "data_np0, data_pd0 = plyToData(ply0)\n",
    "data_np1, data_pd1 = plyToData(ply1)\n",
    "data_np2, data_pd2 = plyToData(ply2)"
   ]
  },
  {
   "cell_type": "markdown",
   "metadata": {},
   "source": [
    "# **CREATE FEATURES**"
   ]
  },
  {
   "cell_type": "code",
   "execution_count": 4,
   "metadata": {},
   "outputs": [],
   "source": [
    "def getFeatures(data):\n",
    "    \n",
    "    features = pd.DataFrame()\n",
    "\n",
    "    for label in data.label.unique():\n",
    "\n",
    "        df = data[data.label == label]\n",
    "        df = df[['x', 'y', 'z']]\n",
    "        df = df.to_numpy()\n",
    "                \n",
    "        covariance_matrix = np.cov(df.T)\n",
    "        eigen_values, eigen_vectors = np.linalg.eig(covariance_matrix)\n",
    "\n",
    "        linearity = (eigen_values[0] - eigen_values[1]) / eigen_values[0]\n",
    "        planarity = (eigen_values[1] - eigen_values[2]) / eigen_values[1]\n",
    "        sphericity = eigen_values[2] / eigen_values[0]\n",
    "        omnivariance = (eigen_values[0] * eigen_values[1] * eigen_values[2]) ** 1/3\n",
    "        anisotropy = (eigen_values[0] - eigen_values[2]) / eigen_values[0]\n",
    "        eigenentropy = (eigen_values[0] * np.log(eigen_values[0]) + eigen_values[1] * np.log(eigen_values[1]) + eigen_values[2] * np.log(eigen_values[2])) * -1\n",
    "        sum_of_eigenvalues = eigen_values[0] + eigen_values[1] + eigen_values[2]\n",
    "        change_curvature = eigen_values[2] / (eigen_values[0] + eigen_values[1] + eigen_values[2])\n",
    "\n",
    "        features = features.append({'label' : label, 'linearity' : linearity, 'planarity' : planarity, 'sphericity' : sphericity,\n",
    "                              'omnivariance' : omnivariance, 'anisotropy' : anisotropy, 'eigenentropy' : eigenentropy, \n",
    "                              'sum_of_eigenvalues' : sum_of_eigenvalues, 'change_curvature' : change_curvature}, ignore_index=True)\n",
    "    return features\n"
   ]
  },
  {
   "cell_type": "code",
   "execution_count": 5,
   "metadata": {},
   "outputs": [
    {
     "name": "stdout",
     "output_type": "stream",
     "text": [
      "125.63737344741821\n"
     ]
    }
   ],
   "source": [
    "start = time.time()\n",
    "features0 = getFeatures(data_pd0)\n",
    "features1 = getFeatures(data_pd1)\n",
    "features2 = getFeatures(data_pd2)\n",
    "end = time.time()\n",
    "print(end - start)"
   ]
  },
  {
   "cell_type": "code",
   "execution_count": 6,
   "metadata": {},
   "outputs": [
    {
     "name": "stdout",
     "output_type": "stream",
     "text": [
      "108.68616652488708\n"
     ]
    }
   ],
   "source": [
    "#num_cores = mp.cpu_count()\n",
    "#pool = mp.Pool(num_cores)\n",
    "\n",
    "#start = time.time()\n",
    "#features = pool.map(getFeatures, [data_pd0, data_pd1, data_pd2])\n",
    "#end = time.time()\n",
    "#print(end - start)"
   ]
  },
  {
   "cell_type": "markdown",
   "metadata": {},
   "source": [
    "# **ADD CLASS CODES**"
   ]
  },
  {
   "cell_type": "code",
   "execution_count": 7,
   "metadata": {},
   "outputs": [],
   "source": [
    "def labelsToClasses(df, featureDF):\n",
    "    \n",
    "    label_to_class = df[['label', 'class']].drop_duplicates()\n",
    "    featuresDF = featureDF.merge(label_to_class, on=['label'])\n",
    "    \n",
    "    return featuresDF\n",
    "\n",
    "features0 = labelsToClasses(data_pd0, features0)\n",
    "features1 = labelsToClasses(data_pd1, features1)\n",
    "features2 = labelsToClasses(data_pd2, features2)"
   ]
  },
  {
   "cell_type": "markdown",
   "metadata": {},
   "source": [
    "# **ADD MEDIAN REFLECTANCE VALUES**"
   ]
  },
  {
   "cell_type": "code",
   "execution_count": 8,
   "metadata": {},
   "outputs": [],
   "source": [
    "def addMedianReflectance(df, featureDF):\n",
    "    \n",
    "    reflectance = pd.DataFrame()\n",
    "    \n",
    "    for class_name in df['class'].unique():\n",
    "        \n",
    "        _df = df[df['class'] == class_name]\n",
    "        value = _df['reflectance'].median()\n",
    "        \n",
    "        reflectance = reflectance.append(pd.Series({'class' : class_name, 'reflectance' : value}), ignore_index=True)\n",
    "    \n",
    "    featureDF = featureDF.merge(reflectance, on=['class'])\n",
    "    featureDF = featureDF.drop(['label'], axis=1)\n",
    "\n",
    "    return featureDF\n",
    "\n",
    "features0 = addMedianReflectance(data_pd0, features0)\n",
    "features1 = addMedianReflectance(data_pd1, features1)\n",
    "features2 = addMedianReflectance(data_pd2, features2)"
   ]
  },
  {
   "cell_type": "markdown",
   "metadata": {},
   "source": [
    "# **COMBINE DATAFRAMES**"
   ]
  },
  {
   "cell_type": "code",
   "execution_count": 9,
   "metadata": {},
   "outputs": [],
   "source": [
    "features = pd.concat([features0, features1, features2])"
   ]
  },
  {
   "cell_type": "markdown",
   "metadata": {},
   "source": [
    "# **REPLACE CLASS CODES WITH NAMES**"
   ]
  },
  {
   "cell_type": "code",
   "execution_count": 10,
   "metadata": {},
   "outputs": [],
   "source": [
    "object_classes = {\n",
    "    '0' : 'Unclassified',\n",
    "    '100000000' : 'Other',\n",
    "    '200000000' : 'Surface',\n",
    "    '201000000' : 'Other Surface',\n",
    "    '202000000' : 'Ground',\n",
    "    '202010000' : 'Other Ground',\n",
    "    '202020000' : 'Road',\n",
    "    '202030000' : 'Sidewalk',\n",
    "    '202040000' : 'Curb',\n",
    "    '202050000' : 'Island',\n",
    "    '202060000' : 'Vegetation',\n",
    "    '203000000' : 'Building',\n",
    "    '300000000' : 'Object',\n",
    "    '301000000' : 'Other Object',\n",
    "    '302000000' : 'Static',\n",
    "    '302010000' : 'Other Static',\n",
    "    '302020000' : 'Punctual Object',\n",
    "    '302020100' : 'Other Punctual Object',\n",
    "    '302020200' : 'Post',\n",
    "    '302020300' : 'Bollard',\n",
    "    '302020400' : 'Floor Lamp',\n",
    "    '302020500' : 'Traffic Light',\n",
    "    '302020600' : 'Traffic Sign',\n",
    "    '302020700' : 'Signboard',\n",
    "    '302020800' : 'Mailbox',\n",
    "    '302020900' : 'Trash Can',\n",
    "    '302021000' : 'Meter',\n",
    "    '302021100' : 'Bicycle Terminal',\n",
    "    '302021200' : 'Bicycle Rack',\n",
    "    '302021300' : 'Statue',\n",
    "    '302030000' : 'Linear',\n",
    "    '302030100' : 'Other Linear',\n",
    "    '302030200' : 'Barrier',\n",
    "    '302030300' : 'Roasting',\n",
    "    '302030400' : 'Grid',\n",
    "    '302030500' : 'Chain',\n",
    "    '302030600' : 'Wire',\n",
    "    '302030700' : 'Low Wall',\n",
    "    '302040000' : 'Extended',\n",
    "    '302040100' : 'Other Extended',\n",
    "    '302040200' : 'Shelter',\n",
    "    '302040300' : 'Kiosk',\n",
    "    '302040400' : 'Scaffold',\n",
    "    '302040500' : 'Bench',\n",
    "    '302040600' : 'Distribution Box',\n",
    "    '302040700' : 'Lighting Console',\n",
    "    '302040800' : 'Windmill',\n",
    "    '303000000' : 'Dynamic',\n",
    "    '303010000' : 'Other Dynamic',\n",
    "    '303020000' : 'Pedestrian',\n",
    "    '303020100' : 'Other Pedestrian',\n",
    "    '303020200' : 'Still Pedestrian',\n",
    "    '303020300' : 'Walking Pedestrian',\n",
    "    '303020400' : 'Running Pedestrian',\n",
    "    '303020500' : 'Stroller Pedestrian',\n",
    "    '303020600' : 'Holding Pedesterian',\n",
    "    '303020700' : 'Leaning Pedestrian',\n",
    "    '303020800' : 'Skater',\n",
    "    '303020900' : 'Rollerskater',\n",
    "    '303021000' : 'Wheelchair',\n",
    "    '303030000' : '2 Wheelers',\n",
    "    '303030100' : 'Other 2 Wheels',\n",
    "    '303030200' : 'Bicycle',\n",
    "    '303030201' : 'Other Bicycle',\n",
    "    '303030202' : 'Mobile Bicycle',\n",
    "    '303030203' : 'Stopped Bicycle',\n",
    "    '303030204' : 'Parked Bicycle',\n",
    "    '303030300' : 'Scooter',\n",
    "    '303030301' : 'Other Scooter',\n",
    "    '303030302' : 'Mobile Scooter',\n",
    "    '303030303' : 'Stopped Scooter',\n",
    "    '303030304' : 'Parked Scooter',\n",
    "    '303030400' : 'Moped',\n",
    "    '303030401' : 'Other Moped',\n",
    "    '303030402' : 'Mobile Moped',\n",
    "    '303030403' : 'Stopped Moped',\n",
    "    '303030404' : 'Parked Moped',\n",
    "    '303030500' : 'Motorbike',\n",
    "    '303030501' : 'Other Motorbike',\n",
    "    '303030502' : 'Mobile Motorbike',\n",
    "    '303030503' : 'Stopped Motorbike',\n",
    "    '303030504' : 'Parked Motorbike',\n",
    "    '303040000' : '4+ Wheelers',\n",
    "    '303040100' : 'Other 4+ Wheelers',\n",
    "    '303040200' : 'Car',\n",
    "    '303040201' : 'Other Car',\n",
    "    '303040202' : 'Mobile Car',\n",
    "    '303040203' : 'Stopped Car',\n",
    "    '303040204' : 'Parked Car',\n",
    "    '303040300' : 'Van',\n",
    "    '303040301' : 'Other Van',\n",
    "    '303040302' : 'Mobile Van',\n",
    "    '303040303' : 'Stopped Van',\n",
    "    '303040304' : 'Parked Van',\n",
    "    '303040400' : 'Truck',\n",
    "    '303040401' : 'Other Truck',\n",
    "    '303040402' : 'Mobile Truck',\n",
    "    '303040403' : 'Stopped Truck',\n",
    "    '303040404' : 'Parked Truck',\n",
    "    '303040500' : 'Bus',\n",
    "    '303040501' : 'Other Bus',\n",
    "    '303040502' : 'Mobile Bus',\n",
    "    '303040503' : 'Stopped Bus',\n",
    "    '303040504' : 'Parked Bus',\n",
    "    '303050000' : 'Furniture',\n",
    "    '303050100' : 'Other Furniture',\n",
    "    '303050200' : 'Table',\n",
    "    '303050300' : 'Chair',\n",
    "    '303050400' : 'Stool',\n",
    "    '303050500' : 'Trash Can',\n",
    "    '303050600' : 'Waste',\n",
    "    '304000000' : 'Natural',\n",
    "    '304010000' : 'Other Natural',\n",
    "    '304020000' : 'Tree',\n",
    "    '304030000' : 'Bush',\n",
    "    '304040000' : 'Potted Plant',\n",
    "    '304050000' : 'Hedge'\n",
    "}\n",
    "\n",
    "features['class'] = features['class'].astype(str)\n",
    "features['class'] = features['class'].map(object_classes)"
   ]
  },
  {
   "cell_type": "markdown",
   "metadata": {},
   "source": [
    "# **DROP CERTAIN CLASS TYPES**"
   ]
  },
  {
   "cell_type": "code",
   "execution_count": 11,
   "metadata": {},
   "outputs": [],
   "source": [
    "features = features[features['class'] != 'Unclassified']\n",
    "features = features[features['class'] != 'Other']"
   ]
  },
  {
   "cell_type": "markdown",
   "metadata": {},
   "source": [
    "# **WRITE OUT CSV**"
   ]
  },
  {
   "cell_type": "code",
   "execution_count": 12,
   "metadata": {},
   "outputs": [],
   "source": [
    "features.to_csv(\"../../data/paris_lille/geometric_features.csv\", index=False)"
   ]
  }
 ],
 "metadata": {
  "kernelspec": {
   "display_name": "lidar",
   "language": "python",
   "name": "lidar"
  },
  "language_info": {
   "codemirror_mode": {
    "name": "ipython",
    "version": 3
   },
   "file_extension": ".py",
   "mimetype": "text/x-python",
   "name": "python",
   "nbconvert_exporter": "python",
   "pygments_lexer": "ipython3",
   "version": "3.8.8"
  }
 },
 "nbformat": 4,
 "nbformat_minor": 4
}
