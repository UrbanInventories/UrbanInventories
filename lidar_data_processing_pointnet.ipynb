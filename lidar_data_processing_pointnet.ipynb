{
 "cells": [
  {
   "cell_type": "code",
   "execution_count": 22,
   "metadata": {},
   "outputs": [],
   "source": [
    "import os\n",
    "import glob\n",
    "\n",
    "import multiprocessing as mp\n",
    "import time\n",
    "\n",
    "import numpy as np\n",
    "import pandas as pd\n",
    "\n",
    "from plyfile import PlyData, PlyElement\n",
    "import open3d as o3d\n",
    "import trimesh\n",
    "\n",
    "from matplotlib import pyplot as plt\n",
    "\n",
    "import warnings\n",
    "warnings.filterwarnings(\"ignore\")"
   ]
  },
  {
   "cell_type": "markdown",
   "metadata": {},
   "source": [
    "# **DIRECTORY BASED**"
   ]
  },
  {
   "cell_type": "code",
   "execution_count": 23,
   "metadata": {},
   "outputs": [],
   "source": [
    "def createPoissonTriangleMesh(directory):\n",
    "    \n",
    "    for file in glob.glob(directory):\n",
    "    \n",
    "        pcd = o3d.io.read_point_cloud(file)\n",
    "    \n",
    "        if len(np.asarray(pcd.points)) < 250:\n",
    "            continue\n",
    "    \n",
    "        pcd.estimate_normals()\n",
    "\n",
    "        mesh = o3d.geometry.TriangleMesh.create_from_point_cloud_poisson(pcd, depth=8, width=0, scale=1.1, linear_fit=False)[0]\n",
    "        filename = '../../data/paris_lille/mesh_objects_poisson/' + 'mesh_' + file.split('/')[-1]\n",
    "        o3d.io.write_triangle_mesh(filename, mesh)\n",
    "\n",
    "        sampled = mesh.sample_points_poisson_disk(number_of_points=500)\n",
    "        filename = '../../data/paris_lille/sampled_poisson_poisson_ply/' + 'sampled_' + file.split('/')[-1]\n",
    "        o3d.io.write_point_cloud(filename, sampled)\n"
   ]
  },
  {
   "cell_type": "code",
   "execution_count": 24,
   "metadata": {},
   "outputs": [],
   "source": [
    "def createBPTriangleMesh(directory):\n",
    "    \n",
    "    for file in glob.glob(directory):\n",
    "    \n",
    "        pcd = o3d.io.read_point_cloud(file)\n",
    "\n",
    "        if len(np.asarray(pcd.points)) < 250:\n",
    "            continue\n",
    "\n",
    "        pcd.estimate_normals()\n",
    "\n",
    "        distances = pcd.compute_nearest_neighbor_distance()\n",
    "        avg_distance = np.mean(distances)\n",
    "        radius = 1.5 * avg_distance\n",
    "\n",
    "        mesh = o3d.geometry.TriangleMesh.create_from_point_cloud_ball_pivoting(pcd, o3d.utility.DoubleVector([radius, radius*2]))\n",
    "        filename = '../../data/paris_lille/mesh_objects/' + 'mesh_' + file.split('/')[-1]\n",
    "        o3d.io.write_triangle_mesh(filename, mesh)\n",
    "\n",
    "        sampled = mesh.sample_points_poisson_disk(number_of_points=1000)\n",
    "        filename = '../../data/paris_lille/sampled_ply/' + 'sampled_' + file.split('/')[-1]\n",
    "        o3d.io.write_point_cloud(filename, sampled)"
   ]
  },
  {
   "cell_type": "code",
   "execution_count": 17,
   "metadata": {},
   "outputs": [],
   "source": [
    "createPoissonTriangleMesh('../../data/paris_lille/ply_objects/*.ply')"
   ]
  },
  {
   "cell_type": "code",
   "execution_count": null,
   "metadata": {},
   "outputs": [],
   "source": [
    "createBPTriangleMesh('../../data/paris_lille/ply_objects/*.ply')"
   ]
  },
  {
   "cell_type": "markdown",
   "metadata": {},
   "source": [
    "# **PARALLELIZED**"
   ]
  },
  {
   "cell_type": "code",
   "execution_count": null,
   "metadata": {},
   "outputs": [],
   "source": [
    "def createBPTriangleMesh(file):\n",
    "    \n",
    "    pcd = o3d.io.read_point_cloud(file)\n",
    "\n",
    "    if len(np.asarray(pcd.points)) > 250:\n",
    "        pcd.estimate_normals()\n",
    "\n",
    "        distances = pcd.compute_nearest_neighbor_distance()\n",
    "        avg_distance = np.mean(distances)\n",
    "        radius = 1.5 * avg_distance\n",
    "\n",
    "        mesh = o3d.geometry.TriangleMesh.create_from_point_cloud_ball_pivoting(pcd, o3d.utility.DoubleVector([radius, radius*2]))\n",
    "        filename = '/home/jupyter-seanandrewchen/shared/cusp-capstone/data/paris_lille/mesh_objects/' + 'mesh_' + file.split('/')[-1]\n",
    "        o3d.io.write_triangle_mesh(filename, mesh)\n",
    "\n",
    "        sampled = mesh.sample_points_poisson_disk(number_of_points=1000)\n",
    "        filename = '/home/jupyter-seanandrewchen/shared/cusp-capstone/data/paris_lille/sampled_ply/' + 'sampled_' + file.split('/')[-1]\n",
    "        o3d.io.write_point_cloud(filename, sampled)\n",
    "    else:\n",
    "        pass"
   ]
  },
  {
   "cell_type": "code",
   "execution_count": null,
   "metadata": {},
   "outputs": [],
   "source": [
    "ply_dir = '/home/jupyter-seanandrewchen/shared/cusp-capstone/data/paris_lille/ply_objects/'\n",
    "input_path = os.path.join(ply_dir, '*.ply')\n",
    "\n",
    "num_cores = mp.cpu_count()\n",
    "pool = mp.Pool(num_cores)\n",
    "\n",
    "start = time.time()\n",
    "pool.map(createBPTriangleMesh, glob.glob(input_path))\n",
    "end = time.time()\n",
    "print(end - start)\n",
    "\n",
    "pool.close()"
   ]
  }
 ],
 "metadata": {
  "kernelspec": {
   "display_name": "lidar",
   "language": "python",
   "name": "lidar"
  },
  "language_info": {
   "codemirror_mode": {
    "name": "ipython",
    "version": 3
   },
   "file_extension": ".py",
   "mimetype": "text/x-python",
   "name": "python",
   "nbconvert_exporter": "python",
   "pygments_lexer": "ipython3",
   "version": "3.8.8"
  }
 },
 "nbformat": 4,
 "nbformat_minor": 4
}
