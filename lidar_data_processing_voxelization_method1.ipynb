{
 "cells": [
  {
   "cell_type": "code",
   "execution_count": 4,
   "metadata": {},
   "outputs": [],
   "source": [
    "import os\n",
    "from os import listdir\n",
    "import glob\n",
    "\n",
    "import multiprocessing as mp\n",
    "import time\n",
    "\n",
    "import numpy as np\n",
    "import pandas as pd\n",
    "\n",
    "import matplotlib.pyplot as plt\n",
    "from mpl_toolkits.mplot3d import Axes3D\n",
    "\n",
    "from plyfile import PlyData, PlyElement\n",
    "import open3d as o3d"
   ]
  },
  {
   "cell_type": "markdown",
   "metadata": {},
   "source": [
    "# **CREATE CSVs FOR EACH OBJECT**"
   ]
  },
  {
   "cell_type": "code",
   "execution_count": 26,
   "metadata": {
    "tags": []
   },
   "outputs": [],
   "source": [
    "ply0 = PlyData.read('../../data/paris_lille/paris_lille/Paris.ply')\n",
    "ply1 = PlyData.read('../../data/paris_lille/paris_lille/Lille1.ply')\n",
    "ply2 = PlyData.read('../../data/paris_lille/paris_lille/Lille2.ply')\n",
    "\n",
    "def plyToData(ply_file):\n",
    "    \n",
    "    data = ply_file.elements[0].data\n",
    "\n",
    "    data_pd = pd.DataFrame(data)\n",
    "    data_np = np.zeros(data_pd.shape, dtype=np.float)\n",
    "    property_names = data[0].dtype.names\n",
    "    for i, name in enumerate(property_names):\n",
    "        data_np[:,i] = data_pd[name]\n",
    "\n",
    "    return data_np, data_pd\n",
    "\n",
    "\n",
    "data_np0, data_pd0 = plyToData(ply0)\n",
    "data_np1, data_pd1 = plyToData(ply1)\n",
    "data_np2, data_pd2 = plyToData(ply2)"
   ]
  },
  {
   "cell_type": "code",
   "execution_count": 27,
   "metadata": {},
   "outputs": [],
   "source": [
    "def createCSVObjectFile(df):\n",
    "    \n",
    "    for i in df.label.unique():\n",
    "        \n",
    "        df_ = df[df.label == i]\n",
    "        \n",
    "        if df_['class'].iloc[0] == 0 or df_['class'].iloc[0] == 100000000:\n",
    "            continue\n",
    "        else:\n",
    "            file_name = \"../../data/paris_lille/csv_objects/\" + str(int(df_.iloc[0]['class'])) + \"_\" + str(int(df_.iloc[0].label)) + \".csv\"\n",
    "            df_.to_csv(file_name, index=False)"
   ]
  },
  {
   "cell_type": "code",
   "execution_count": null,
   "metadata": {},
   "outputs": [],
   "source": [
    "num_cores = mp.cpu_count()\n",
    "pool = mp.Pool(num_cores)\n",
    "\n",
    "start = time.time()\n",
    "csvs = pool.map(createCSVObjectFile, [data_pd0, data_pd1, data_pd2])\n",
    "end = time.time()\n",
    "print(end - start)\n",
    "\n",
    "pool.close()"
   ]
  },
  {
   "cell_type": "markdown",
   "metadata": {},
   "source": [
    "# **VOXELIZE EACH CSV**"
   ]
  },
  {
   "cell_type": "code",
   "execution_count": 3,
   "metadata": {},
   "outputs": [],
   "source": [
    "def voxelize(filename):\n",
    "    df = pd.read_csv(filename)\n",
    "    df = df[['x', 'y', 'z']]\n",
    "    points = df.to_numpy()\n",
    "    \n",
    "    points = points[np.logical_not(np.isnan(points).any(axis=1))]\n",
    "    origin = (np.min(points[:, 0]), np.min(points[:, 1]), np.min(points[:, 2]))\n",
    "    points[:, 0] -= origin[0]\n",
    "    points[:, 1] -= origin[1]\n",
    "    points[:, 2] -= origin[2]\n",
    "    \n",
    "    voxel_size=(24, 24, 24)\n",
    "    padding_size=(32, 32, 32)\n",
    "    resolution=0.1\n",
    "\n",
    "    OCCUPIED = 1\n",
    "    FREE = 0\n",
    "    \n",
    "    x_logical = np.logical_and((points[:, 0] < voxel_size[0] * resolution), (points[:, 0] >= 0))\n",
    "    y_logical = np.logical_and((points[:, 1] < voxel_size[1] * resolution), (points[:, 1] >= 0))\n",
    "    z_logical = np.logical_and((points[:, 2] < voxel_size[2] * resolution), (points[:, 2] >= 0))\n",
    "    xyz_logical = np.logical_and(x_logical, np.logical_and(y_logical, z_logical))\n",
    "    inside_box_points = points[xyz_logical] \n",
    "\n",
    "    voxels = np.zeros(padding_size)\n",
    "    center_points = inside_box_points + (padding_size[0] - voxel_size[0]) * resolution / 2\n",
    "    x_idx = (center_points[:, 0] / resolution).astype(int)\n",
    "    y_idx = (center_points[:, 1] / resolution).astype(int)\n",
    "    z_idx = (center_points[:, 2] / resolution).astype(int)\n",
    "    voxels[x_idx, y_idx, z_idx] = OCCUPIED\n",
    "    \n",
    "    npy_filename = '../../data/paris_lille/npy_objects_method1/' + filename.split('.')[0].split('/')[-1] + '.npy'\n",
    "    np.save(npy_filename, voxels)"
   ]
  },
  {
   "cell_type": "code",
   "execution_count": 8,
   "metadata": {
    "tags": []
   },
   "outputs": [
    {
     "name": "stdout",
     "output_type": "stream",
     "text": [
      "28.473743438720703\n"
     ]
    }
   ],
   "source": [
    "csv_dir = '/home/jupyter-seanandrewchen/shared/cusp-capstone/data/paris_lille/csv_objects/'\n",
    "input_path = os.path.join(csv_dir, '*.csv')\n",
    "\n",
    "num_cores = mp.cpu_count()\n",
    "pool = mp.Pool(num_cores)\n",
    "\n",
    "start = time.time()\n",
    "voxelizations = pool.map(voxelize, glob.glob(input_path))\n",
    "end = time.time()\n",
    "print(end - start)\n",
    "\n",
    "pool.close()"
   ]
  },
  {
   "cell_type": "code",
   "execution_count": null,
   "metadata": {},
   "outputs": [],
   "source": [
    "#csv_dir = '/home/jupyter-seanandrewchen/shared/cusp-capstone/data/paris_lille/csv_objects/'\n",
    "#input_path = os.path.join(csv_dir, '*.csv')\n",
    "#for csv in glob.iglob(input_path):\n",
    "#    voxelize(csv)"
   ]
  },
  {
   "cell_type": "markdown",
   "metadata": {},
   "source": [
    "# **INSPECT FILES**"
   ]
  },
  {
   "cell_type": "code",
   "execution_count": 5,
   "metadata": {},
   "outputs": [],
   "source": [
    "def plot3DVoxel(voxels):\n",
    "    fig = plt.figure('Point Cloud 3D Voxelization')\n",
    "    plt3d = fig.gca(projection='3d')\n",
    "\n",
    "    occupied = (voxels == 1)\n",
    "    free = (voxels == 0)\n",
    "\n",
    "    # # set the colors of each object\n",
    "    colors = np.zeros(voxels.shape + (4,))\n",
    "    colors[free] = [0.1, 0.1, 0.1, 0.1]\n",
    "    colors[occupied] = [0.8, 0.8, 0.8, 1.0]\n",
    "\n",
    "    # setting camera angle\n",
    "    plt3d.set_xlabel('X', fontsize=9)\n",
    "    plt3d.set_ylabel('Y', fontsize=9)\n",
    "    plt3d.set_zlabel('Z', fontsize=9)\n",
    "    plt3d.set_xlim3d(0, voxels.shape[0])\n",
    "    plt3d.set_ylim3d(0, voxels.shape[1])\n",
    "    plt3d.set_zlim3d(0, voxels.shape[2])\n",
    "\n",
    "    # and plot everything\n",
    "    # plt3d.voxels(occupied | free, facecolors=colors, edgecolor='k', linewidth=0.8)\n",
    "    plt3d.voxels(occupied, facecolors=colors, edgecolor='k', linewidth=0.8)\n",
    "\n",
    "    dx, dy, dz = voxels.shape\n",
    "    x = y= z = 0\n",
    "    xx = [x, x, x+dx, x+dx, x]\n",
    "    yy = [y, y+dy, y+dy, y, y]\n",
    "    kwargs = {'alpha': 1, 'color': 'red'}\n",
    "    plt3d.plot3D(xx, yy, [z]*5, **kwargs)\n",
    "    plt3d.plot3D(xx, yy, [z+dz]*5, **kwargs)\n",
    "    plt3d.plot3D([x, x], [y, y], [z, z+dz], **kwargs)\n",
    "    plt3d.plot3D([x, x], [y+dy, y+dy], [z, z+dz], **kwargs)\n",
    "    plt3d.plot3D([x+dx, x+dx], [y+dy, y+dy], [z, z+dz], **kwargs)\n",
    "    plt3d.plot3D([x+dx, x+dx], [y, y], [z, z+dz], **kwargs)\n",
    "\n",
    "    plt.show()"
   ]
  },
  {
   "cell_type": "code",
   "execution_count": 6,
   "metadata": {},
   "outputs": [
    {
     "data": {
      "image/png": "[encoded data removed]",
      "text/plain": [
       "<Figure size 432x288 with 1 Axes>"
      ]
     },
     "metadata": {
      "needs_background": "light"
     },
     "output_type": "display_data"
    }
   ],
   "source": [
    "voxels = np.load('../../data/paris_lille/npy_objects_method1/302020400_159.npy').astype(np.float32)\n",
    "plot3DVoxel(voxels)"
   ]
  },
  {
   "cell_type": "markdown",
   "metadata": {},
   "source": [
    "# **LOAD ALL NPY FILES**"
   ]
  },
  {
   "cell_type": "code",
   "execution_count": 2,
   "metadata": {},
   "outputs": [],
   "source": [
    "path = os.path.join('../../data/paris_lille/npy_objects/', '*.npy')\n",
    "\n",
    "voxels_list = []\n",
    "label_list = []\n",
    "\n",
    "for npy_file in glob.iglob(path):\n",
    "    \n",
    "    file_name = npy_file.split('/')[-1].split('_')[0]\n",
    "    label_list.append(file_name)\n",
    "    \n",
    "    voxels = np.load(npy_file).astype(np.float32)\n",
    "    voxels_list.append(voxels)"
   ]
  }
 ],
 "metadata": {
  "kernelspec": {
   "display_name": "lidar",
   "language": "python",
   "name": "lidar"
  },
  "language_info": {
   "codemirror_mode": {
    "name": "ipython",
    "version": 3
   },
   "file_extension": ".py",
   "mimetype": "text/x-python",
   "name": "python",
   "nbconvert_exporter": "python",
   "pygments_lexer": "ipython3",
   "version": "3.8.8"
  }
 },
 "nbformat": 4,
 "nbformat_minor": 4
}
